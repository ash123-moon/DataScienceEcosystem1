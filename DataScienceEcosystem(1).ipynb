{
 "cells": [
  {
   "cell_type": "markdown",
   "id": "3efc3f15-e1b7-48a2-9602-03950120b8d7",
   "metadata": {},
   "source": [
    "# Data Science Ecosystem and Tools"
   ]
  },
  {
   "cell_type": "markdown",
   "id": "6f387427-463a-455b-95db-62a8a05665a3",
   "metadata": {},
   "source": [
    "## Introduction\n",
    "In this notebook,Data Science tools and Ecosystem are summarized"
   ]
  },
  {
   "cell_type": "markdown",
   "id": "3fecc654-b9d6-481f-8db1-62cd66d4915d",
   "metadata": {},
   "source": [
    "## data science languages\n",
    "Some of the popular lanuages data scientist used are:\n",
    "1. Python\n",
    "2. R\n",
    "3. SQL"
   ]
  },
  {
   "cell_type": "markdown",
   "id": "c882c31a-483c-409d-88c8-f93e2383cf71",
   "metadata": {},
   "source": [
    "## Data Science Libraries\n",
    "1. Numpy\n",
    "2. Pandas\n",
    "3. Scikit-Learn\n",
    "4. TensorFlow\n",
    "5. Matplotlib"
   ]
  },
  {
   "cell_type": "markdown",
   "id": "d4712d95-738e-4cd4-8ef9-124c74dfcd02",
   "metadata": {},
   "source": [
    "## Data Science Tools\n",
    "|   Data Science Tools |\n",
    "|----------------------|\n",
    "| JupyterNotebook |\n",
    "|  RStudio       |\n",
    "|  Apache Zeppelin |"
   ]
  },
  {
   "cell_type": "markdown",
   "id": "2e471809-14cc-4936-9517-f36139b917fd",
   "metadata": {},
   "source": [
    "### Below are a few examples of evaluating arithmetic expressions in python"
   ]
  },
  {
   "cell_type": "code",
   "execution_count": 1,
   "id": "10624934-e900-41e4-98e6-660d1fde2ac4",
   "metadata": {},
   "outputs": [
    {
     "data": {
      "text/plain": [
       "17"
      ]
     },
     "execution_count": 1,
     "metadata": {},
     "output_type": "execute_result"
    }
   ],
   "source": [
    "# This is a simple arithmetic expression to multiply then add integers\n",
    "(3 * 4) + 5"
   ]
  },
  {
   "cell_type": "code",
   "execution_count": 2,
   "id": "3724eff0-df07-4db5-b208-30bf52a88189",
   "metadata": {},
   "outputs": [
    {
     "data": {
      "text/plain": [
       "3.3333333333333335"
      ]
     },
     "execution_count": 2,
     "metadata": {},
     "output_type": "execute_result"
    }
   ],
   "source": [
    "# This will convert 200 minutes to hours by dividing by 60\n",
    "200 / 60"
   ]
  },
  {
   "cell_type": "markdown",
   "id": "5911694b-6989-40a1-8d17-c25ce444eb9e",
   "metadata": {},
   "source": [
    "## Author\n",
    "Ashna Merin Philip"
   ]
  },
  {
   "cell_type": "markdown",
   "id": "88461628-fedf-4f85-9a1e-b8b30e51ec54",
   "metadata": {},
   "source": [
    "** objectives **\n",
    "- understand how to evaluate arithmetic expression in python\n",
    "- learn to convert between different unit such as minutes to hours\n",
    "- gain familarity with markdown formatting in jupyter"
   ]
  }
 ],
 "metadata": {
  "kernelspec": {
   "display_name": "Python 3 (ipykernel)",
   "language": "python",
   "name": "python3"
  },
  "language_info": {
   "codemirror_mode": {
    "name": "ipython",
    "version": 3
   },
   "file_extension": ".py",
   "mimetype": "text/x-python",
   "name": "python",
   "nbconvert_exporter": "python",
   "pygments_lexer": "ipython3",
   "version": "3.12.8"
  }
 },
 "nbformat": 4,
 "nbformat_minor": 5
}
